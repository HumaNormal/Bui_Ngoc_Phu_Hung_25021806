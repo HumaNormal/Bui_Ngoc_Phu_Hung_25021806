{
 "cells": [
  {
   "cell_type": "code",
   "execution_count": 13,
   "id": "55b5416d-f409-499d-97e3-6a57661d7f9b",
   "metadata": {},
   "outputs": [
    {
     "name": "stdin",
     "output_type": "stream",
     "text": [
      "Nhập số nguyên n: q\n"
     ]
    },
    {
     "name": "stdout",
     "output_type": "stream",
     "text": [
      "Dữ liệu bạn nhập không hợp lệ! Vui lòng nhập số nguyên\n",
      "----------------------------------------\n"
     ]
    },
    {
     "name": "stdin",
     "output_type": "stream",
     "text": [
      "Nhập số nguyên n: 4\n"
     ]
    },
    {
     "name": "stdout",
     "output_type": "stream",
     "text": [
      "Số gấp đôi của 4 là: 8\n"
     ]
    }
   ],
   "source": [
    "while True:\n",
    "    try:\n",
    "        n_str = input(\"Nhập số nguyên n:\")\n",
    "        n = int(n_str)\n",
    "        break\n",
    "    except ValueError:\n",
    "        print(\"Dữ liệu bạn nhập không hợp lệ! Vui lòng nhập số nguyên\")\n",
    "        print(\"-\"*40)\n",
    "so_gap_doi = n*2\n",
    "print(f\"Số gấp đôi của {n} là: {so_gap_doi}\")"
   ]
  },
  {
   "cell_type": "code",
   "execution_count": 59,
   "id": "46b06d80-1285-43bf-a8cc-ef41b88b33de",
   "metadata": {},
   "outputs": [
    {
     "name": "stdin",
     "output_type": "stream",
     "text": [
      "Nhập chiều dài và chiều rộng của hcn: 12\n"
     ]
    },
    {
     "name": "stdout",
     "output_type": "stream",
     "text": [
      "Dữ liệu của bạn không hợp lệ! Vui lòng nhập ĐÚNG 2 SỐ THỰC\n",
      "----------------------------------------\n"
     ]
    },
    {
     "name": "stdin",
     "output_type": "stream",
     "text": [
      "Nhập chiều dài và chiều rộng của hcn: 12 32\n"
     ]
    },
    {
     "name": "stdout",
     "output_type": "stream",
     "text": [
      "Lỗi LOGIC. Vui lòng nhập lại với chiều dài lớn hơn chiều rộng\n",
      "----------------------------------------\n"
     ]
    },
    {
     "name": "stdin",
     "output_type": "stream",
     "text": [
      "Nhập chiều dài và chiều rộng của hcn: 12\n"
     ]
    },
    {
     "name": "stdout",
     "output_type": "stream",
     "text": [
      "Dữ liệu của bạn không hợp lệ! Vui lòng nhập ĐÚNG 2 SỐ THỰC\n",
      "----------------------------------------\n"
     ]
    },
    {
     "name": "stdin",
     "output_type": "stream",
     "text": [
      "Nhập chiều dài và chiều rộng của hcn: 1\n"
     ]
    },
    {
     "name": "stdout",
     "output_type": "stream",
     "text": [
      "Dữ liệu của bạn không hợp lệ! Vui lòng nhập ĐÚNG 2 SỐ THỰC\n",
      "----------------------------------------\n"
     ]
    },
    {
     "name": "stdin",
     "output_type": "stream",
     "text": [
      "Nhập chiều dài và chiều rộng của hcn: q\n"
     ]
    },
    {
     "name": "stdout",
     "output_type": "stream",
     "text": [
      "Dữ liệu của bạn không hợp lệ! Vui lòng nhập ĐÚNG 2 SỐ THỰC\n",
      "----------------------------------------\n"
     ]
    },
    {
     "name": "stdin",
     "output_type": "stream",
     "text": [
      "Nhập chiều dài và chiều rộng của hcn: 12\n"
     ]
    },
    {
     "name": "stdout",
     "output_type": "stream",
     "text": [
      "Dữ liệu của bạn không hợp lệ! Vui lòng nhập ĐÚNG 2 SỐ THỰC\n",
      "----------------------------------------\n"
     ]
    },
    {
     "name": "stdin",
     "output_type": "stream",
     "text": [
      "Nhập chiều dài và chiều rộng của hcn: 5 10\n"
     ]
    },
    {
     "name": "stdout",
     "output_type": "stream",
     "text": [
      "Lỗi LOGIC. Vui lòng nhập lại với chiều dài lớn hơn chiều rộng\n",
      "----------------------------------------\n"
     ]
    },
    {
     "name": "stdin",
     "output_type": "stream",
     "text": [
      "Nhập chiều dài và chiều rộng của hcn: 10 5\n"
     ]
    },
    {
     "name": "stdout",
     "output_type": "stream",
     "text": [
      "\n",
      "----KẾT QUẢ TÍNH TOÁN----\n",
      "Diện tích trồng cây là: 30.38\n"
     ]
    }
   ],
   "source": [
    "import math\n",
    "while True: \n",
    "    try:\n",
    "        input_str = input(\"Nhập chiều dài và chiều rộng của hcn:\" )\n",
    "        cd_str, cr_str = input_str.split()\n",
    "        cd = float(cd_str)\n",
    "        cr = float(cr_str)\n",
    "        if cd < cr:\n",
    "            print(\"Lỗi LOGIC. Vui lòng nhập lại với chiều dài lớn hơn chiều rộng\")\n",
    "            print(\"-\"*40)\n",
    "            continue\n",
    "    except ValueError:\n",
    "        print(\"Dữ liệu của bạn không hợp lệ! Vui lòng nhập ĐÚNG 2 SỐ THỰC\")\n",
    "        print(\"-\"*40)\n",
    "        continue\n",
    "    dien_tich_hcn = cd*cr\n",
    "    ban_kinh = cr/2\n",
    "    dien_tich_hinh_tron = (ban_kinh**2)*3.14\n",
    "    dien_tich = dien_tich_hcn - dien_tich_hinh_tron\n",
    "    print(\"\\n----KẾT QUẢ TÍNH TOÁN----\")\n",
    "    print(f\"Diện tích trồng cây là: {dien_tich:.2f}\")\n",
    "    break"
   ]
  },
  {
   "cell_type": "code",
   "execution_count": 64,
   "id": "80c4e593-1934-43a8-9479-21fb8bb12a72",
   "metadata": {},
   "outputs": [
    {
     "name": "stdin",
     "output_type": "stream",
     "text": [
      "Hãy nhập vào một ký tự: 1\n"
     ]
    },
    {
     "name": "stdout",
     "output_type": "stream",
     "text": [
      "Error. Vui lòng chỉ nhập ký tự chữ cái\n",
      "--------------------------------------------------\n"
     ]
    },
    {
     "name": "stdin",
     "output_type": "stream",
     "text": [
      "Hãy nhập vào một ký tự: 2\n"
     ]
    },
    {
     "name": "stdout",
     "output_type": "stream",
     "text": [
      "Error. Vui lòng chỉ nhập ký tự chữ cái\n",
      "--------------------------------------------------\n"
     ]
    },
    {
     "name": "stdin",
     "output_type": "stream",
     "text": [
      "Hãy nhập vào một ký tự: ab\n"
     ]
    },
    {
     "name": "stdout",
     "output_type": "stream",
     "text": [
      "Error. Vui lòng chỉ nhập 1 ký tự\n",
      "--------------------------------------------------\n"
     ]
    },
    {
     "name": "stdin",
     "output_type": "stream",
     "text": [
      "Hãy nhập vào một ký tự: a c\n"
     ]
    },
    {
     "name": "stdout",
     "output_type": "stream",
     "text": [
      "Error. Vui lòng chỉ nhập 1 ký tự\n",
      "--------------------------------------------------\n"
     ]
    },
    {
     "name": "stdin",
     "output_type": "stream",
     "text": [
      "Hãy nhập vào một ký tự: a\n"
     ]
    },
    {
     "name": "stdout",
     "output_type": "stream",
     "text": [
      "Viết hoa của a là: A\n"
     ]
    }
   ],
   "source": [
    "while True:\n",
    "    n = input(\"Hãy nhập vào một ký tự:\")\n",
    "    if len(n) != 1:\n",
    "        print(\"Error. Vui lòng chỉ nhập 1 ký tự\")\n",
    "        print(\"-\"*50)\n",
    "        continue\n",
    "    if not n.isalpha():\n",
    "        print(\"Error. Vui lòng chỉ nhập ký tự chữ cái\")\n",
    "        print(\"-\"*50)\n",
    "        continue\n",
    "    else:\n",
    "        if n.islower():\n",
    "            print(f\"Viết hoa của {n} là: {n.upper()}\")\n",
    "        else:\n",
    "            print(f\"Viết thường của {n} là: {n.lower()}\")\n",
    "    break"
   ]
  },
  {
   "cell_type": "code",
   "execution_count": 62,
   "id": "39b54c46-b8a6-4232-8093-81f5d7d1a014",
   "metadata": {},
   "outputs": [
    {
     "name": "stdin",
     "output_type": "stream",
     "text": [
      "Hãy nhập vào một ký tự: abc\n"
     ]
    },
    {
     "name": "stdout",
     "output_type": "stream",
     "text": [
      "Error.Vui lòng chỉ nhập một ký tự\n",
      "--------------------------------------------------\n"
     ]
    },
    {
     "name": "stdin",
     "output_type": "stream",
     "text": [
      "Hãy nhập vào một ký tự: 1 q\n"
     ]
    },
    {
     "name": "stdout",
     "output_type": "stream",
     "text": [
      "Error.Vui lòng chỉ nhập một ký tự\n",
      "--------------------------------------------------\n"
     ]
    },
    {
     "name": "stdin",
     "output_type": "stream",
     "text": [
      "Hãy nhập vào một ký tự: abcd\n"
     ]
    },
    {
     "name": "stdout",
     "output_type": "stream",
     "text": [
      "Error.Vui lòng chỉ nhập một ký tự\n",
      "--------------------------------------------------\n"
     ]
    },
    {
     "name": "stdin",
     "output_type": "stream",
     "text": [
      "Hãy nhập vào một ký tự: a\n"
     ]
    },
    {
     "name": "stdout",
     "output_type": "stream",
     "text": [
      "a là ký tự alphabet\n"
     ]
    }
   ],
   "source": [
    "while True:\n",
    "    ky_tu = input(\"Hãy nhập vào một ký tự:\")\n",
    "    if len(ky_tu) != 1:\n",
    "        print(\"Error.Vui lòng chỉ nhập một ký tự\")\n",
    "        print(\"-\"*50)\n",
    "        continue\n",
    "    else:\n",
    "        if ky_tu.isalpha():\n",
    "            print(f\"{ky_tu} là ký tự alphabet\")\n",
    "        else:\n",
    "            print(f\"{ky_tu} không phải là ký tự alphabet\")\n",
    "    break"
   ]
  },
  {
   "cell_type": "code",
   "execution_count": null,
   "id": "341c1967-6168-403f-ab2d-3d3bed6f6e22",
   "metadata": {},
   "outputs": [],
   "source": []
  }
 ],
 "metadata": {
  "kernelspec": {
   "display_name": "Python 3 (ipykernel)",
   "language": "python",
   "name": "python3"
  },
  "language_info": {
   "codemirror_mode": {
    "name": "ipython",
    "version": 3
   },
   "file_extension": ".py",
   "mimetype": "text/x-python",
   "name": "python",
   "nbconvert_exporter": "python",
   "pygments_lexer": "ipython3",
   "version": "3.13.7"
  }
 },
 "nbformat": 4,
 "nbformat_minor": 5
}
