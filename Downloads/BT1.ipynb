{
 "cells": [
  {
   "cell_type": "code",
   "execution_count": 13,
   "id": "55b5416d-f409-499d-97e3-6a57661d7f9b",
   "metadata": {},
   "outputs": [
    {
     "name": "stdin",
     "output_type": "stream",
     "text": [
      "Nhập số nguyên n: q\n"
     ]
    },
    {
     "name": "stdout",
     "output_type": "stream",
     "text": [
      "Dữ liệu bạn nhập không hợp lệ! Vui lòng nhập số nguyên\n",
      "----------------------------------------\n"
     ]
    },
    {
     "name": "stdin",
     "output_type": "stream",
     "text": [
      "Nhập số nguyên n: 4\n"
     ]
    },
    {
     "name": "stdout",
     "output_type": "stream",
     "text": [
      "Số gấp đôi của 4 là: 8\n"
     ]
    }
   ],
   "source": [
    "#Câu 1\n",
    "while True:\n",
    "    try:\n",
    "        n_str = input(\"Nhập số nguyên n:\")\n",
    "        n = int(n_str)\n",
    "        break\n",
    "    except ValueError:\n",
    "        print(\"Dữ liệu bạn nhập không hợp lệ! Vui lòng nhập số nguyên\")\n",
    "        print(\"-\"*40)\n",
    "so_gap_doi = n*2\n",
    "print(f\"Số gấp đôi của {n} là: {so_gap_doi}\")"
   ]
  },
  {
   "cell_type": "code",
   "execution_count": 54,
   "id": "46b06d80-1285-43bf-a8cc-ef41b88b33de",
   "metadata": {},
   "outputs": [
    {
     "name": "stdin",
     "output_type": "stream",
     "text": [
      "Nhập chiều dài và chiều rộng của hcn: 2 -1\n"
     ]
    },
    {
     "name": "stdout",
     "output_type": "stream",
     "text": [
      "Lỗi LOGIC. Vui lòng nhập lại với chiều dài lớn hơn chiều rộng và cả hai là số dương\n",
      "----------------------------------------\n"
     ]
    },
    {
     "name": "stdin",
     "output_type": "stream",
     "text": [
      "Nhập chiều dài và chiều rộng của hcn: 4 6\n"
     ]
    },
    {
     "name": "stdout",
     "output_type": "stream",
     "text": [
      "Chiều dài của hcn là: 6, chiều rộng của hcn là: 4\n",
      "\n",
      "----KẾT QUẢ TÍNH TOÁN----\n",
      "Diện tích trồng cây là: 11.44\n"
     ]
    }
   ],
   "source": [
    "#Câu 2\n",
    "import math\n",
    "while True: \n",
    "    try:\n",
    "        input_str = input(\"Nhập chiều dài và chiều rộng của hcn:\" )\n",
    "        canh1, canh2 = map(int, input_str.split())\n",
    "        cd = max(canh1, canh2)\n",
    "        cr = min(canh1, canh2)\n",
    "        if cd < cr or cd <= 0 or cr <= 0:\n",
    "            print(\"Lỗi LOGIC. Vui lòng nhập lại với chiều dài lớn hơn chiều rộng và cả hai là số dương\")\n",
    "            print(\"-\"*40)\n",
    "            continue\n",
    "    except ValueError:\n",
    "        print(\"Dữ liệu của bạn không hợp lệ! Vui lòng nhập ĐÚNG 2 SỐ THỰC\")\n",
    "        print(\"-\"*40)\n",
    "        continue\n",
    "    print(f\"Chiều dài của hcn là: {cd}, chiều rộng của hcn là: {cr}\")\n",
    "    dien_tich_hcn = cd*cr\n",
    "    ban_kinh = cr/2\n",
    "    dien_tich_hinh_tron = (ban_kinh**2)*3.14\n",
    "    dien_tich = dien_tich_hcn - dien_tich_hinh_tron\n",
    "    print(\"\\n----KẾT QUẢ TÍNH TOÁN----\")\n",
    "    print(f\"Diện tích trồng cây là: {dien_tich:.2f}\")\n",
    "    break"
   ]
  },
  {
   "cell_type": "code",
   "execution_count": 64,
   "id": "80c4e593-1934-43a8-9479-21fb8bb12a72",
   "metadata": {},
   "outputs": [
    {
     "name": "stdin",
     "output_type": "stream",
     "text": [
      "Hãy nhập vào một ký tự: 1\n"
     ]
    },
    {
     "name": "stdout",
     "output_type": "stream",
     "text": [
      "Error. Vui lòng chỉ nhập ký tự chữ cái\n",
      "--------------------------------------------------\n"
     ]
    },
    {
     "name": "stdin",
     "output_type": "stream",
     "text": [
      "Hãy nhập vào một ký tự: 2\n"
     ]
    },
    {
     "name": "stdout",
     "output_type": "stream",
     "text": [
      "Error. Vui lòng chỉ nhập ký tự chữ cái\n",
      "--------------------------------------------------\n"
     ]
    },
    {
     "name": "stdin",
     "output_type": "stream",
     "text": [
      "Hãy nhập vào một ký tự: ab\n"
     ]
    },
    {
     "name": "stdout",
     "output_type": "stream",
     "text": [
      "Error. Vui lòng chỉ nhập 1 ký tự\n",
      "--------------------------------------------------\n"
     ]
    },
    {
     "name": "stdin",
     "output_type": "stream",
     "text": [
      "Hãy nhập vào một ký tự: a c\n"
     ]
    },
    {
     "name": "stdout",
     "output_type": "stream",
     "text": [
      "Error. Vui lòng chỉ nhập 1 ký tự\n",
      "--------------------------------------------------\n"
     ]
    },
    {
     "name": "stdin",
     "output_type": "stream",
     "text": [
      "Hãy nhập vào một ký tự: a\n"
     ]
    },
    {
     "name": "stdout",
     "output_type": "stream",
     "text": [
      "Viết hoa của a là: A\n"
     ]
    }
   ],
   "source": [
    "#Câu 3\n",
    "while True:\n",
    "    n = input(\"Hãy nhập vào một ký tự:\")\n",
    "    if len(n) != 1:\n",
    "        print(\"Error. Vui lòng chỉ nhập 1 ký tự\")\n",
    "        print(\"-\"*50)\n",
    "        continue\n",
    "    if not n.isalpha():\n",
    "        print(\"Error. Vui lòng chỉ nhập ký tự chữ cái\")\n",
    "        print(\"-\"*50)\n",
    "        continue\n",
    "    else:\n",
    "        if n.islower():\n",
    "            print(f\"Viết hoa của {n} là: {n.upper()}\")\n",
    "        else:\n",
    "            print(f\"Viết thường của {n} là: {n.lower()}\")\n",
    "    break"
   ]
  },
  {
   "cell_type": "code",
   "execution_count": 55,
   "id": "39b54c46-b8a6-4232-8093-81f5d7d1a014",
   "metadata": {},
   "outputs": [
    {
     "name": "stdin",
     "output_type": "stream",
     "text": [
      "Hãy nhập vào một ký tự: 1\n"
     ]
    },
    {
     "name": "stdout",
     "output_type": "stream",
     "text": [
      "1 không phải là ký tự alphabet\n"
     ]
    }
   ],
   "source": [
    "#Câu 4\n",
    "while True:\n",
    "    ky_tu = input(\"Hãy nhập vào một ký tự:\")\n",
    "    if len(ky_tu) != 1:\n",
    "        print(\"Error.Vui lòng chỉ nhập một ký tự\")\n",
    "        print(\"-\"*50)\n",
    "        continue\n",
    "    else:\n",
    "        if ky_tu.isalpha():\n",
    "            print(f\"{ky_tu} là ký tự alphabet\")\n",
    "        else:\n",
    "            print(f\"{ky_tu} không phải là ký tự alphabet\")\n",
    "    break"
   ]
  },
  {
   "cell_type": "code",
   "execution_count": 57,
   "id": "341c1967-6168-403f-ab2d-3d3bed6f6e22",
   "metadata": {},
   "outputs": [
    {
     "name": "stdin",
     "output_type": "stream",
     "text": [
      "Vui lòng nhập vào 3 cạnh của tam giác 1 2 3\n"
     ]
    },
    {
     "name": "stdout",
     "output_type": "stream",
     "text": [
      "Error. Không phải 3 cạnh của tam giác\n",
      "----------------------------------------\n"
     ]
    },
    {
     "name": "stdin",
     "output_type": "stream",
     "text": [
      "Vui lòng nhập vào 3 cạnh của tam giác 5 3 56\n"
     ]
    },
    {
     "name": "stdout",
     "output_type": "stream",
     "text": [
      "Error. Không phải 3 cạnh của tam giác\n",
      "----------------------------------------\n"
     ]
    },
    {
     "name": "stdin",
     "output_type": "stream",
     "text": [
      "Vui lòng nhập vào 3 cạnh của tam giác 2 5 6\n"
     ]
    },
    {
     "name": "stdout",
     "output_type": "stream",
     "text": [
      "Đây là 3 cạnh của một tam giác\n",
      "Diện tích tam giác là: 4.68\n"
     ]
    }
   ],
   "source": [
    "#Câu 6\n",
    "import math\n",
    "while True:\n",
    "    try:\n",
    "        input_str = input(\"Vui lòng nhập vào 3 cạnh của tam giác\")\n",
    "        a, b, c = map(int, input_str.split()) \n",
    "        sides = sorted([a, b, c])\n",
    "        if sides[0] > 0 and sides[0] + sides[1] > sides[2]:\n",
    "            print(\"Đây là 3 cạnh của một tam giác\")\n",
    "            P = (a + b + c)/2\n",
    "            S = math.sqrt(P*(P - a)*(P - b)*(P - c))\n",
    "            print(f\"Diện tích tam giác là: {S:.2f}\")\n",
    "            break\n",
    "        else: \n",
    "            print(\"Error. Không phải 3 cạnh của tam giác\")\n",
    "            print(\"-\"*40)\n",
    "    except ValueError:\n",
    "        print(\"Dữ liệu không hợp lệ. Vui lòng nhập 3 số nguyên\")\n",
    "        print(\"-\"*40)\n",
    "\n",
    "        "
   ]
  },
  {
   "cell_type": "code",
   "execution_count": 64,
   "id": "ff342440-c714-43c0-aa56-f45ca58296c5",
   "metadata": {},
   "outputs": [
    {
     "name": "stdin",
     "output_type": "stream",
     "text": [
      "Vui lòng nhập một dãy có ít nhất 20 ký tự 12\n"
     ]
    },
    {
     "name": "stdout",
     "output_type": "stream",
     "text": [
      "Error. Vui lòng nhập hơn 20 ký tự\n"
     ]
    },
    {
     "name": "stdin",
     "output_type": "stream",
     "text": [
      "Vui lòng nhập một dãy có ít nhất 20 ký tự 1234jáiộipjfaoìịpiopfjweiopqiợpeoiqrư\n"
     ]
    },
    {
     "name": "stdout",
     "output_type": "stream",
     "text": [
      "Chữ cái thứ năm của chuỗi là: j\n",
      "Chữ cái thứ mười của chuỗi là: p\n"
     ]
    }
   ],
   "source": [
    "#Câu 7\n",
    "while True:\n",
    "    dau_vao = input(\"Vui lòng nhập một dãy có ít nhất 20 ký tự\").lower()\n",
    "    if len(dau_vao) < 20:\n",
    "        print(\"Error. Vui lòng nhập hơn 20 ký tự\")\n",
    "        continue\n",
    "    else:\n",
    "        ky_tu_thu_nam = dau_vao[4]\n",
    "        ky_tu_thu_muoi = dau_vao[9]\n",
    "        print(f\"Chữ cái thứ năm của chuỗi là: {ky_tu_thu_nam}\")\n",
    "        print(f\"Chữ cái thứ mười của chuỗi là: {ky_tu_thu_muoi}\")\n",
    "        break"
   ]
  },
  {
   "cell_type": "code",
   "execution_count": 88,
   "id": "4c33c9bb-309f-41d1-8eb7-42d8b313755e",
   "metadata": {},
   "outputs": [
    {
     "name": "stdin",
     "output_type": "stream",
     "text": [
      "Vui lòng nhập tên chủ hộ: 1231\n"
     ]
    },
    {
     "name": "stdout",
     "output_type": "stream",
     "text": [
      "Error!! Tên chủ hộ phải là các ký tự alphabet\n"
     ]
    },
    {
     "name": "stdin",
     "output_type": "stream",
     "text": [
      "Vui lòng nhập tên chủ hộ: Phú Hưng\n",
      "Vui lòng nhập số điện tháng trước và tháng này: 1239 1299\n"
     ]
    },
    {
     "name": "stdout",
     "output_type": "stream",
     "text": [
      "Tên chủ hộ là: Phú Hưng\n",
      "Tiền điện là: 239976 đồng\n"
     ]
    }
   ],
   "source": [
    "#Câu 8\n",
    "while True:\n",
    "    ten_chu_ho = input(\"Vui lòng nhập tên chủ hộ:\").strip()\n",
    "    if not ten_chu_ho != \"\":\n",
    "        print(\"Bạn cần nhập tên chủ hộ:\")\n",
    "        print(\"-\"*40)\n",
    "        continue\n",
    "\n",
    "    ten_khong_cach = ten_chu_ho.replace(\" \", \"\")\n",
    "    if not ten_khong_cach.isalpha():\n",
    "        print(\"Error!! Tên chủ hộ phải là các ký tự alphabet\")\n",
    "        continue\n",
    "    break\n",
    "    \n",
    "while True:\n",
    "    try:\n",
    "        input_str = input(\"Vui lòng nhập số điện tháng trước và tháng này:\")\n",
    "        so_dien_thang_truoc, so_dien_thang_nay = map(int,input_str.split())\n",
    "        if so_dien_thang_truoc < 0 or so_dien_thang_nay < 0:\n",
    "            print(\"Error. Số điện phải là số dương\")\n",
    "            print(\"-\"*40)\n",
    "            continue\n",
    "        if so_dien_thang_truoc > so_dien_thang_nay:\n",
    "            print(\"Error. Số điện tháng này phải lớn hơn số điện tháng trước\")\n",
    "            print(\"-\"*40)\n",
    "            continue\n",
    "    except ValueError:\n",
    "        print(\"Vui lòng nhập đúng 2 số nguyên dương\")\n",
    "        print(\"-\"*40)\n",
    "        continue\n",
    "    so_dien_tieu_thu = so_dien_thang_nay - so_dien_thang_truoc\n",
    "    tien_dien_ko_thue = 0\n",
    "    if so_dien_tieu_thu >=401:\n",
    "        tien_dien_ko_thue = 50*1984 + 50*2050 + 100*2380 + 100*2998 + 100*3350 + (so_dien_tieu_thu - 400)*3460        \n",
    "    elif so_dien_tieu_thu >=301:\n",
    "        tien_dien_ko_thue = 50*1984 + 50*2050 + 100*2380 + 100*2998 + (so_dien_tieu_thu - 300)*3350       \n",
    "    elif so_dien_tieu_thu >=201:\n",
    "        tien_dien_ko_thue = 50*1984 + 50*2050 + 100*2380 + (so_dien_tieu_thu - 200)*2998     \n",
    "    elif so_dien_tieu_thu >=101:\n",
    "        tien_dien_ko_thue = 50*1984 + 50*2050 + (so_dien_tieu_thu - 100)*2380     \n",
    "    elif so_dien_tieu_thu >=51:\n",
    "        tien_dien_ko_thue = 50*1984 + (so_dien_tieu_thu - 50)*2050    \n",
    "    elif so_dien_tieu_thu > 0:\n",
    "        tien_dien_ko_thue = so_dien_tieu_thu*1984\n",
    "    else:\n",
    "        print(\"Tháng trước chủ hộ không ở nhà\")\n",
    "    tien_dien = tien_dien_ko_thue*1.08\n",
    "    print(f\"Tên chủ hộ là: {ten_chu_ho}\")\n",
    "    print(f\"Tiền điện là: {tien_dien:.0f} đồng\")\n",
    "    break\n",
    "    "
   ]
  },
  {
   "cell_type": "code",
   "execution_count": 5,
   "id": "d4c25716-708f-4ae4-87dc-f70e0b9a8ee0",
   "metadata": {},
   "outputs": [
    {
     "name": "stdin",
     "output_type": "stream",
     "text": [
      "Vui lòng nhập một số nguyên: e\n"
     ]
    },
    {
     "name": "stdout",
     "output_type": "stream",
     "text": [
      "Vui lòng nhập đúng một số nguyên\n",
      "----------------------------------------\n"
     ]
    },
    {
     "name": "stdin",
     "output_type": "stream",
     "text": [
      "Vui lòng nhập một số nguyên: q\n"
     ]
    },
    {
     "name": "stdout",
     "output_type": "stream",
     "text": [
      "Vui lòng nhập đúng một số nguyên\n",
      "----------------------------------------\n"
     ]
    },
    {
     "name": "stdin",
     "output_type": "stream",
     "text": [
      "Vui lòng nhập một số nguyên: @\n"
     ]
    },
    {
     "name": "stdout",
     "output_type": "stream",
     "text": [
      "Vui lòng nhập đúng một số nguyên\n",
      "----------------------------------------\n"
     ]
    },
    {
     "name": "stdin",
     "output_type": "stream",
     "text": [
      "Vui lòng nhập một số nguyên: 12\n"
     ]
    },
    {
     "name": "stdout",
     "output_type": "stream",
     "text": [
      "Đây là một số chẵn\n"
     ]
    }
   ],
   "source": [
    "while True:\n",
    "    try:\n",
    "        so_nguyen_str = input(\"Vui lòng nhập một số nguyên:\")\n",
    "        so_nguyen = int(so_nguyen_str)\n",
    "        break\n",
    "    except ValueError:\n",
    "        print(\"Vui lòng nhập đúng một số nguyên\")\n",
    "        print(\"-\"*40)\n",
    "if so_nguyen % 2 == 0:\n",
    "    print(\"Đây là một số chẵn\")\n",
    "else:\n",
    "    print(\"Đây là một số lẻ\")"
   ]
  },
  {
   "cell_type": "code",
   "execution_count": 12,
   "id": "9009a898-f926-4c77-ae80-ff618ba5ff55",
   "metadata": {},
   "outputs": [
    {
     "name": "stdin",
     "output_type": "stream",
     "text": [
      "Vui lòng nhập vào một số nguyên: a\n"
     ]
    },
    {
     "name": "stdout",
     "output_type": "stream",
     "text": [
      "Vui lòng nhập đúng số nguyên\n",
      "----------------------------------------\n"
     ]
    },
    {
     "name": "stdin",
     "output_type": "stream",
     "text": [
      "Vui lòng nhập vào một số nguyên: 12331313131\n"
     ]
    },
    {
     "name": "stdout",
     "output_type": "stream",
     "text": [
      "False\n"
     ]
    }
   ],
   "source": [
    "while True:\n",
    "    so_nguyen_str = input(\"Vui lòng nhập vào một số nguyên:\")\n",
    "    try:\n",
    "        int(so_nguyen_str)\n",
    "        break\n",
    "    except ValueError:\n",
    "        print(\"Vui lòng nhập đúng số nguyên\")\n",
    "        print(\"-\"*40)\n",
    "ky_tu_cuoi = so_nguyen_str[-1]\n",
    "if ky_tu_cuoi == '5':\n",
    "    print(\"True\")\n",
    "else:\n",
    "    print(\"False\")\n"
   ]
  },
  {
   "cell_type": "code",
   "execution_count": 13,
   "id": "0d78eaeb-d4da-4da3-89a1-284c3441e4ad",
   "metadata": {},
   "outputs": [
    {
     "ename": "SyntaxError",
     "evalue": "unterminated string literal (detected at line 12) (3870664252.py, line 12)",
     "output_type": "error",
     "traceback": [
      "  \u001b[36mCell\u001b[39m\u001b[36m \u001b[39m\u001b[32mIn[13]\u001b[39m\u001b[32m, line 12\u001b[39m\n\u001b[31m    \u001b[39m\u001b[31mprint(\"False\u001b[39m\n          ^\n\u001b[31mSyntaxError\u001b[39m\u001b[31m:\u001b[39m unterminated string literal (detected at line 12)\n"
     ]
    }
   ],
   "source": [
    "while True:\n",
    "    try:\n",
    "        so_nguyen_str = input(\"Vui lòng nhập vào một số nguyên:\")\n",
    "        so_nguyen = int(so_nguyen_str)\n",
    "        break\n",
    "    except ValueError:\n",
    "        print(\"Vui lòng nhập đúng số nguyên\")\n",
    "        print(\"-\"*40)\n",
    "\n",
    "if so_nguyen % 5 == 0 and\n",
    "    print(\"True\")\n",
    "else:\n",
    "    print(\"False\")\n"
   ]
  },
  {
   "cell_type": "code",
   "execution_count": 17,
   "id": "7404f766-90de-42ce-b26f-defc3cdf2ee0",
   "metadata": {},
   "outputs": [
    {
     "name": "stdin",
     "output_type": "stream",
     "text": [
      "Nhập vào một ký tự a\n"
     ]
    },
    {
     "name": "stdout",
     "output_type": "stream",
     "text": [
      "aaaaaaaaaa\n"
     ]
    }
   ],
   "source": [
    "ky_tu = input(\"Nhập vào một ký tự\")\n",
    "print(f\"{ky_tu}\"*10)"
   ]
  },
  {
   "cell_type": "code",
   "execution_count": null,
   "id": "ad881306-7c30-40b1-9272-66efc715a6ee",
   "metadata": {},
   "outputs": [],
   "source": []
  }
 ],
 "metadata": {
  "kernelspec": {
   "display_name": "Python 3 (ipykernel)",
   "language": "python",
   "name": "python3"
  },
  "language_info": {
   "codemirror_mode": {
    "name": "ipython",
    "version": 3
   },
   "file_extension": ".py",
   "mimetype": "text/x-python",
   "name": "python",
   "nbconvert_exporter": "python",
   "pygments_lexer": "ipython3",
   "version": "3.13.7"
  }
 },
 "nbformat": 4,
 "nbformat_minor": 5
}
