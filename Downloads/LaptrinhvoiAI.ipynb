{
 "cells": [
  {
   "cell_type": "code",
   "execution_count": 1,
   "id": "eef737c0-533b-4c88-90b0-04b694dd2b31",
   "metadata": {},
   "outputs": [
    {
     "name": "stdout",
     "output_type": "stream",
     "text": [
      "2\n"
     ]
    }
   ],
   "source": [
    "a = 7\n",
    "b = 5\n",
    "c = a - b\n",
    "print(c)"
   ]
  },
  {
   "cell_type": "code",
   "execution_count": 2,
   "id": "81d01e8b-20e7-4360-b9b6-45c6bc548a00",
   "metadata": {},
   "outputs": [
    {
     "name": "stdout",
     "output_type": "stream",
     "text": [
      "Thành phố:  Hà Nội  - Năm:  2025\n"
     ]
    }
   ],
   "source": [
    "city = \"Hà Nội\"\n",
    "year = 2025\n",
    "print(\"Thành phố: \", city, \" - Năm: \", year)"
   ]
  },
  {
   "cell_type": "code",
   "execution_count": 4,
   "id": "899426eb-e4c8-4910-b376-9bfff1daeed2",
   "metadata": {},
   "outputs": [
    {
     "name": "stdout",
     "output_type": "stream",
     "text": [
      "10\n"
     ]
    }
   ],
   "source": [
    "n = 4\n",
    "t = 0\n",
    "for i in range (1, n+1):\n",
    "    t += i\n",
    "print(t)"
   ]
  },
  {
   "cell_type": "code",
   "execution_count": 14,
   "id": "6e379d75-174b-4e0c-9b58-b3e66f1caebc",
   "metadata": {},
   "outputs": [
    {
     "name": "stdout",
     "output_type": "stream",
     "text": [
      "1 là số lẻ\n",
      "2 là số chẵn\n",
      "3 là số lẻ\n",
      "4 là số chẵn\n"
     ]
    }
   ],
   "source": [
    "numbers = [1, 2, 3, 4]\n",
    "for x in numbers:\n",
    "    if x % 2 == 0:\n",
    "        print(x, \"là số chẵn\")\n",
    "    else:\n",
    "        print(x, \"là số lẻ\")"
   ]
  },
  {
   "cell_type": "code",
   "execution_count": 15,
   "id": "08a3bc15-48fa-4d29-b99c-97234408db68",
   "metadata": {},
   "outputs": [
    {
     "name": "stdout",
     "output_type": "stream",
     "text": [
      "Số phần tử trong danh sách là: 4\n"
     ]
    }
   ],
   "source": [
    "animals = [\"cat\", \"dog\", \"cat\", \"bird\"]\n",
    "count = 0\n",
    "for a in animals:\n",
    "    count += 1\n",
    "print(\"Số phần tử trong danh sách là:\", count)"
   ]
  },
  {
   "cell_type": "code",
   "execution_count": 21,
   "id": "eae894e9-f697-4285-bd29-7ac77edc3580",
   "metadata": {},
   "outputs": [
    {
     "name": "stdout",
     "output_type": "stream",
     "text": [
      "\n",
      "=== AI Prediction System ===\n",
      "1) Sentiment analysis\n",
      "2) Weather forecast\n",
      "3) Exit\n"
     ]
    },
    {
     "name": "stdin",
     "output_type": "stream",
     "text": [
      "Please choose an option:  1\n"
     ]
    },
    {
     "name": "stdout",
     "output_type": "stream",
     "text": [
      "\n",
      "-> Chức năng 'Sentiment analysis' đang được thực thi...\n",
      "\n",
      "=== AI Prediction System ===\n",
      "1) Sentiment analysis\n",
      "2) Weather forecast\n",
      "3) Exit\n"
     ]
    },
    {
     "name": "stdin",
     "output_type": "stream",
     "text": [
      "Please choose an option:  3\n"
     ]
    },
    {
     "name": "stdout",
     "output_type": "stream",
     "text": [
      "\n",
      "Exiting the program. Goodbye!\n"
     ]
    }
   ],
   "source": [
    "def show_menu():\n",
    "    \"\"\"Hàm này dùng để hiển thị menu chính.\"\"\"\n",
    "    print(\"\\n=== AI Prediction System ===\")\n",
    "    print(\"1) Sentiment analysis\")\n",
    "    print(\"2) Weather forecast\")\n",
    "    print(\"3) Exit\")\n",
    "\n",
    "while True:\n",
    "    show_menu()\n",
    "    choice = input(\"Please choose an option: \")\n",
    "\n",
    "    if choice == '1':\n",
    "        print(\"\\n-> Chức năng 'Sentiment analysis' đang được thực thi...\")\n",
    "    \n",
    "    elif choice == '2':\n",
    "        print(\"\\n-> Chức năng 'Weather forecast' đang được thực thi...\")\n",
    "        \n",
    "    elif choice == '3':\n",
    "        print(\"\\nExiting the program. Goodbye!\")\n",
    "        break\n",
    "        \n",
    "    else:\n",
    "        print(\"\\nInvalid option. Please try again.\")"
   ]
  },
  {
   "cell_type": "code",
   "execution_count": 29,
   "id": "55c02d1a-9524-4082-9d0e-2be5512b20f8",
   "metadata": {},
   "outputs": [
    {
     "name": "stdin",
     "output_type": "stream",
     "text": [
      "Nhập số:  15\n"
     ]
    },
    {
     "name": "stdout",
     "output_type": "stream",
     "text": [
      "Số lẻ\n"
     ]
    }
   ],
   "source": [
    "num = int(input(\"Nhập số: \"))\n",
    "if num % 2 == 0:\n",
    "    print(\"Số chẵn\")\n",
    "else:\n",
    "    print(\"Số lẻ\") "
   ]
  },
  {
   "cell_type": "code",
   "execution_count": 26,
   "id": "13c17045-af9d-4b60-b034-1d3eceab39d5",
   "metadata": {},
   "outputs": [
    {
     "name": "stdout",
     "output_type": "stream",
     "text": [
      "AI đang học lần 1\n",
      "AI đang học lần 2\n",
      "AI đang học lần 3\n",
      "Huấn luyện xong!\n"
     ]
    }
   ],
   "source": [
    "for i in range(3):\n",
    "    print(\"AI đang học lần\", i + 1)\n",
    "print(\"Huấn luyện xong!\") "
   ]
  },
  {
   "cell_type": "code",
   "execution_count": 28,
   "id": "95beb724-b6a0-42ba-a320-f544e4f98268",
   "metadata": {},
   "outputs": [
    {
     "name": "stdout",
     "output_type": "stream",
     "text": [
      "Dự đoán con vật: cat\n",
      "Dự đoán con vật: dog\n",
      "Dự đoán con vật: fish\n"
     ]
    }
   ],
   "source": [
    "for x in [\"cat\", \"dog\", \"fish\"]:\n",
    "    print(\"Dự đoán con vật:\", x) "
   ]
  },
  {
   "cell_type": "code",
   "execution_count": 31,
   "id": "7c52483c-1c44-4295-8dab-942723a9c4a0",
   "metadata": {},
   "outputs": [
    {
     "name": "stdout",
     "output_type": "stream",
     "text": [
      "=== AI Prediction System ===\n",
      "1) Sentiment analysis\n",
      "2) Weather forecast\n",
      "3) Exit\n",
      "Please choose an option:\n"
     ]
    }
   ],
   "source": [
    "# Simple menu\n",
    "print(\"=== AI Prediction System ===\")\n",
    "print(\"1) Sentiment analysis\")\n",
    "print(\"2) Weather forecast\")\n",
    "print('3) Exit')\n",
    "print(\"Please choose an option:\")"
   ]
  },
  {
   "cell_type": "code",
   "execution_count": null,
   "id": "8f3132ef-4020-4022-8dbd-a8b78abd92b5",
   "metadata": {},
   "outputs": [],
   "source": []
  }
 ],
 "metadata": {
  "kernelspec": {
   "display_name": "Python 3 (ipykernel)",
   "language": "python",
   "name": "python3"
  },
  "language_info": {
   "codemirror_mode": {
    "name": "ipython",
    "version": 3
   },
   "file_extension": ".py",
   "mimetype": "text/x-python",
   "name": "python",
   "nbconvert_exporter": "python",
   "pygments_lexer": "ipython3",
   "version": "3.13.7"
  }
 },
 "nbformat": 4,
 "nbformat_minor": 5
}
